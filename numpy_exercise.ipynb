{
  "nbformat": 4,
  "nbformat_minor": 0,
  "metadata": {
    "colab": {
      "name": "numpy exercise.ipynb",
      "provenance": [],
      "collapsed_sections": [],
      "authorship_tag": "ABX9TyOgVGNYMr+XXB7VCGRsgpcS",
      "include_colab_link": true
    },
    "kernelspec": {
      "name": "python3",
      "display_name": "Python 3"
    },
    "language_info": {
      "name": "python"
    }
  },
  "cells": [
    {
      "cell_type": "markdown",
      "metadata": {
        "id": "view-in-github",
        "colab_type": "text"
      },
      "source": [
        "<a href=\"https://colab.research.google.com/github/Anshika91/Anshi/blob/main/numpy_exercise.ipynb\" target=\"_parent\"><img src=\"https://colab.research.google.com/assets/colab-badge.svg\" alt=\"Open In Colab\"/></a>"
      ]
    },
    {
      "cell_type": "markdown",
      "source": [
        "3.Create 1-D Array in numpy: "
      ],
      "metadata": {
        "id": "FZmX0npzFfuA"
      }
    },
    {
      "cell_type": "code",
      "execution_count": 1,
      "metadata": {
        "colab": {
          "base_uri": "https://localhost:8080/"
        },
        "id": "qPg8DwJrE-ek",
        "outputId": "b863db9d-027c-4048-e50b-f431d28c9530"
      },
      "outputs": [
        {
          "output_type": "execute_result",
          "data": {
            "text/plain": [
              "array([1, 2, 3, 4, 5])"
            ]
          },
          "metadata": {},
          "execution_count": 1
        }
      ],
      "source": [
        "import numpy as np\n",
        "a1 = np.array((1,2,3,4,5))\n",
        "a1"
      ]
    },
    {
      "cell_type": "markdown",
      "source": [
        "4. Use list to create 1D array (you may also specify data type i.e. dtype=’int16’) "
      ],
      "metadata": {
        "id": "fAmvvZU4FdIs"
      }
    },
    {
      "cell_type": "code",
      "source": [
        "import numpy as np\n",
        "a2=np.array([3,4.5,6,1,2.5],dtype='int16')\n",
        "a2"
      ],
      "metadata": {
        "colab": {
          "base_uri": "https://localhost:8080/"
        },
        "id": "yK35i9Z-FPOh",
        "outputId": "9f641c80-53de-4213-cfc4-c956307ca615"
      },
      "execution_count": 2,
      "outputs": [
        {
          "output_type": "execute_result",
          "data": {
            "text/plain": [
              "array([3, 4, 6, 1, 2], dtype=int16)"
            ]
          },
          "metadata": {},
          "execution_count": 2
        }
      ]
    },
    {
      "cell_type": "markdown",
      "source": [
        "5.User tuple to create 1D array"
      ],
      "metadata": {
        "id": "CjcccS4FFwlo"
      }
    },
    {
      "cell_type": "code",
      "source": [
        "import numpy as np\n",
        "a3=np.array((56,34,12,78))\n",
        "a3"
      ],
      "metadata": {
        "colab": {
          "base_uri": "https://localhost:8080/"
        },
        "id": "cxPwbPK_FrHU",
        "outputId": "66305266-1e84-485c-fa27-5b3c9717b488"
      },
      "execution_count": 3,
      "outputs": [
        {
          "output_type": "execute_result",
          "data": {
            "text/plain": [
              "array([56, 34, 12, 78])"
            ]
          },
          "metadata": {},
          "execution_count": 3
        }
      ]
    },
    {
      "cell_type": "markdown",
      "source": [
        "6.Use arange function to create 1D array of int"
      ],
      "metadata": {
        "id": "6EtswJjLF7a6"
      }
    },
    {
      "cell_type": "code",
      "source": [
        "import numpy as np\n",
        "a4=np.arange(1,15,3)\n",
        "a4"
      ],
      "metadata": {
        "colab": {
          "base_uri": "https://localhost:8080/"
        },
        "id": "Fqt67pYMF5kn",
        "outputId": "3cd46d23-0f3f-4a87-e066-2c3270fc9eb4"
      },
      "execution_count": 4,
      "outputs": [
        {
          "output_type": "execute_result",
          "data": {
            "text/plain": [
              "array([ 1,  4,  7, 10, 13])"
            ]
          },
          "metadata": {},
          "execution_count": 4
        }
      ]
    },
    {
      "cell_type": "markdown",
      "source": [
        "7.a Use arange function to create 1D array of float ( may use dtype = symbols(int->‘i’, uint-\n",
        ">’u’,float->’f’,double->’d’,complex->’D’,bool->’b’)"
      ],
      "metadata": {
        "id": "rbOCkPTBGEys"
      }
    },
    {
      "cell_type": "code",
      "source": [
        "import numpy as np\n",
        "a5=np.arange(1,15,2,dtype='f')\n",
        "a5"
      ],
      "metadata": {
        "colab": {
          "base_uri": "https://localhost:8080/"
        },
        "id": "xaoag5y0GCc3",
        "outputId": "bb54ebc8-ba4a-4c82-ab02-fcc6d55e8f49"
      },
      "execution_count": 5,
      "outputs": [
        {
          "output_type": "execute_result",
          "data": {
            "text/plain": [
              "array([ 1.,  3.,  5.,  7.,  9., 11., 13.], dtype=float32)"
            ]
          },
          "metadata": {},
          "execution_count": 5
        }
      ]
    },
    {
      "cell_type": "markdown",
      "source": [
        "7.b"
      ],
      "metadata": {
        "id": "wirW3sZiGx0C"
      }
    },
    {
      "cell_type": "code",
      "source": [
        "import numpy as np\n",
        "a6=np.arange(1,15,2,dtype='i')\n",
        "a6"
      ],
      "metadata": {
        "colab": {
          "base_uri": "https://localhost:8080/"
        },
        "id": "nmdkX3mkGMGv",
        "outputId": "b67f1db6-2f23-4df3-f27b-0c3829c88d1d"
      },
      "execution_count": 6,
      "outputs": [
        {
          "output_type": "execute_result",
          "data": {
            "text/plain": [
              "array([ 1,  3,  5,  7,  9, 11, 13], dtype=int32)"
            ]
          },
          "metadata": {},
          "execution_count": 6
        }
      ]
    },
    {
      "cell_type": "markdown",
      "source": [
        "7.c"
      ],
      "metadata": {
        "id": "_sKi-LqLG0eh"
      }
    },
    {
      "cell_type": "code",
      "source": [
        "import numpy as np\n",
        "a7=np.arange(1,15,2,dtype='i')\n",
        "a7"
      ],
      "metadata": {
        "colab": {
          "base_uri": "https://localhost:8080/"
        },
        "id": "7U5GI7bIGUlL",
        "outputId": "81986003-3607-4b66-8c45-46c28e16c18f"
      },
      "execution_count": 7,
      "outputs": [
        {
          "output_type": "execute_result",
          "data": {
            "text/plain": [
              "array([ 1,  3,  5,  7,  9, 11, 13], dtype=int32)"
            ]
          },
          "metadata": {},
          "execution_count": 7
        }
      ]
    },
    {
      "cell_type": "markdown",
      "source": [
        "8.  Create 1D array of mixed elements int and float, and print the array and see the output"
      ],
      "metadata": {
        "id": "eAI-6p_eG3Kf"
      }
    },
    {
      "cell_type": "code",
      "source": [
        "import numpy as np\n",
        "a8=np.array((1,2,3.4,8,1.5))\n",
        "print(a8)"
      ],
      "metadata": {
        "colab": {
          "base_uri": "https://localhost:8080/"
        },
        "id": "h0t7fwYOGjQR",
        "outputId": "8360d9ed-4fdc-4cbd-d6f7-58364e87ec5f"
      },
      "execution_count": 8,
      "outputs": [
        {
          "output_type": "stream",
          "name": "stdout",
          "text": [
            "[1.  2.  3.4 8.  1.5]\n"
          ]
        }
      ]
    },
    {
      "cell_type": "markdown",
      "source": [
        "9.Create 1D array of mixed elements int, float, and str, then print the array and see the output\n"
      ],
      "metadata": {
        "id": "wexK1HbdHJ5i"
      }
    },
    {
      "cell_type": "code",
      "source": [
        "import numpy as np\n",
        "a9=np.array((1,2,3.4,'a',1.5,'i'))\n",
        "print(a9)"
      ],
      "metadata": {
        "colab": {
          "base_uri": "https://localhost:8080/"
        },
        "id": "DgrwYN2oHCEH",
        "outputId": "09a5d0db-e431-45e4-aca0-8aa5a3acc16f"
      },
      "execution_count": 9,
      "outputs": [
        {
          "output_type": "stream",
          "name": "stdout",
          "text": [
            "['1' '2' '3.4' 'a' '1.5' 'i']\n"
          ]
        }
      ]
    },
    {
      "cell_type": "markdown",
      "source": [
        "10.Create a 2D array of dimensions 2x2"
      ],
      "metadata": {
        "id": "HNkeIggFHLt0"
      }
    },
    {
      "cell_type": "code",
      "source": [
        "import numpy as np\n",
        "m1=np.zeros((2,2),dtype=int)\n",
        "m1"
      ],
      "metadata": {
        "colab": {
          "base_uri": "https://localhost:8080/"
        },
        "id": "PlKZ0tmUHIxi",
        "outputId": "1cd192ce-992e-4520-96ca-fe92377e7ba5"
      },
      "execution_count": 10,
      "outputs": [
        {
          "output_type": "execute_result",
          "data": {
            "text/plain": [
              "array([[0, 0],\n",
              "       [0, 0]])"
            ]
          },
          "metadata": {},
          "execution_count": 10
        }
      ]
    },
    {
      "cell_type": "markdown",
      "source": [
        "11.Print the shape, size, and memory used by this array in bytes (use itemsize, or nbytes)"
      ],
      "metadata": {
        "id": "PH04ysvxHTdu"
      }
    },
    {
      "cell_type": "code",
      "source": [
        "import numpy as np\n",
        "print(m1.shape)\n",
        "print(m1.size)\n",
        "print(m1.size * m1.itemsize)"
      ],
      "metadata": {
        "colab": {
          "base_uri": "https://localhost:8080/"
        },
        "id": "OffbETFmHSL7",
        "outputId": "cfd62e63-636e-4a43-f006-340678471101"
      },
      "execution_count": 11,
      "outputs": [
        {
          "output_type": "stream",
          "name": "stdout",
          "text": [
            "(2, 2)\n",
            "4\n",
            "32\n"
          ]
        }
      ]
    },
    {
      "cell_type": "markdown",
      "source": [
        "12.Check the type of any array variable"
      ],
      "metadata": {
        "id": "T7WOOoaQHa8u"
      }
    },
    {
      "cell_type": "code",
      "source": [
        "import numpy as np\n",
        "print(type(m1))"
      ],
      "metadata": {
        "colab": {
          "base_uri": "https://localhost:8080/"
        },
        "id": "sPSAGIKuHZo4",
        "outputId": "34bc8464-e636-425e-df4a-3d060ffc115d"
      },
      "execution_count": 12,
      "outputs": [
        {
          "output_type": "stream",
          "name": "stdout",
          "text": [
            "<class 'numpy.ndarray'>\n"
          ]
        }
      ]
    },
    {
      "cell_type": "markdown",
      "source": [
        "13.Check indexing on array with help of examples"
      ],
      "metadata": {
        "id": "4vWvVKnEHik_"
      }
    },
    {
      "cell_type": "code",
      "source": [
        "import numpy as np\n",
        "arr=np.array([1,2,3,4,5,6])\n",
        "print(arr[3])"
      ],
      "metadata": {
        "colab": {
          "base_uri": "https://localhost:8080/"
        },
        "id": "9PJeXPGCHhP2",
        "outputId": "e7da5dfe-64be-4596-c59d-03d4e431542f"
      },
      "execution_count": 13,
      "outputs": [
        {
          "output_type": "stream",
          "name": "stdout",
          "text": [
            "4\n"
          ]
        }
      ]
    },
    {
      "cell_type": "markdown",
      "source": [
        "14.Using arange function create an 3D array of dimensions = (2,3,4) , first element of this array\n",
        "is 0 and last element is 23 in increasing order, store this array in a variable b."
      ],
      "metadata": {
        "id": "XUODGTNFHsKt"
      }
    },
    {
      "cell_type": "code",
      "source": [
        "import numpy as np\n",
        "b=np.arange(0,24,1)\n",
        "b=b.reshape(2,3,4)\n",
        "print(b)"
      ],
      "metadata": {
        "colab": {
          "base_uri": "https://localhost:8080/"
        },
        "id": "8xKfNjz-Hrjj",
        "outputId": "1b92bbd0-998d-4d2d-e33b-06f1935ab3ef"
      },
      "execution_count": 14,
      "outputs": [
        {
          "output_type": "stream",
          "name": "stdout",
          "text": [
            "[[[ 0  1  2  3]\n",
            "  [ 4  5  6  7]\n",
            "  [ 8  9 10 11]]\n",
            "\n",
            " [[12 13 14 15]\n",
            "  [16 17 18 19]\n",
            "  [20 21 22 23]]]\n"
          ]
        }
      ]
    },
    {
      "cell_type": "markdown",
      "source": [
        "15.What index can produce output: array([[ 0, 1, 2, 3], [ 4, 5, 6, 7], [ 8, 9, 10, 11]])"
      ],
      "metadata": {
        "id": "f42xxt9QH0M4"
      }
    },
    {
      "cell_type": "code",
      "source": [
        "import numpy as np\n",
        "b[0]"
      ],
      "metadata": {
        "colab": {
          "base_uri": "https://localhost:8080/"
        },
        "id": "E-Gv29FrHyyp",
        "outputId": "f52cc824-90ae-41b7-e860-96e8d6c1c002"
      },
      "execution_count": 15,
      "outputs": [
        {
          "output_type": "execute_result",
          "data": {
            "text/plain": [
              "array([[ 0,  1,  2,  3],\n",
              "       [ 4,  5,  6,  7],\n",
              "       [ 8,  9, 10, 11]])"
            ]
          },
          "metadata": {},
          "execution_count": 15
        }
      ]
    },
    {
      "cell_type": "markdown",
      "source": [
        "16.What index can produce output: 0 "
      ],
      "metadata": {
        "id": "HEL00uVAIAJa"
      }
    },
    {
      "cell_type": "code",
      "source": [
        "import numpy as np\n",
        "b[0][0][0]"
      ],
      "metadata": {
        "colab": {
          "base_uri": "https://localhost:8080/"
        },
        "id": "g3fD29RCH4SK",
        "outputId": "c97fe59a-ab27-4eaf-acaf-f8d1c71a05a5"
      },
      "execution_count": 16,
      "outputs": [
        {
          "output_type": "execute_result",
          "data": {
            "text/plain": [
              "0"
            ]
          },
          "metadata": {},
          "execution_count": 16
        }
      ]
    },
    {
      "cell_type": "markdown",
      "source": [
        "17.What index can produce output: array([4, 5, 6, 7]) "
      ],
      "metadata": {
        "id": "IgV0sF6kIHqt"
      }
    },
    {
      "cell_type": "code",
      "source": [
        "import numpy as np\n",
        "b[0][1]"
      ],
      "metadata": {
        "colab": {
          "base_uri": "https://localhost:8080/"
        },
        "id": "2IYwZSk2IGg6",
        "outputId": "f183d7fe-5244-457d-e9eb-1bdb4710442d"
      },
      "execution_count": 17,
      "outputs": [
        {
          "output_type": "execute_result",
          "data": {
            "text/plain": [
              "array([4, 5, 6, 7])"
            ]
          },
          "metadata": {},
          "execution_count": 17
        }
      ]
    },
    {
      "cell_type": "markdown",
      "source": [
        "18.What index can produce output: array([0,12])"
      ],
      "metadata": {
        "id": "W1DGaq68IN0P"
      }
    },
    {
      "cell_type": "code",
      "source": [
        "import numpy as np\n",
        "b[:,0:4:3,0]"
      ],
      "metadata": {
        "colab": {
          "base_uri": "https://localhost:8080/"
        },
        "id": "RAMJJB0qINQb",
        "outputId": "5488e8dc-881d-46b3-cbdd-3d3571b0b9af"
      },
      "execution_count": 19,
      "outputs": [
        {
          "output_type": "execute_result",
          "data": {
            "text/plain": [
              "array([[ 0],\n",
              "       [12]])"
            ]
          },
          "metadata": {},
          "execution_count": 19
        }
      ]
    },
    {
      "cell_type": "markdown",
      "source": [
        "19.What index can produce output: array([4,6]) "
      ],
      "metadata": {
        "id": "yaSz9Y2vIX-Y"
      }
    },
    {
      "cell_type": "code",
      "source": [
        "import numpy as np\n",
        "b[0,1,0:3:2]"
      ],
      "metadata": {
        "colab": {
          "base_uri": "https://localhost:8080/"
        },
        "id": "VdeU2P_aIUjH",
        "outputId": "008858c6-a09c-4aa8-b966-9d9955e9743b"
      },
      "execution_count": 20,
      "outputs": [
        {
          "output_type": "execute_result",
          "data": {
            "text/plain": [
              "array([4, 6])"
            ]
          },
          "metadata": {},
          "execution_count": 20
        }
      ]
    },
    {
      "cell_type": "markdown",
      "source": [
        "20.. Check the output of b[… , 1]"
      ],
      "metadata": {
        "id": "seV4C7ZiIere"
      }
    },
    {
      "cell_type": "code",
      "source": [
        "import numpy as np\n",
        "b[...,1]"
      ],
      "metadata": {
        "colab": {
          "base_uri": "https://localhost:8080/"
        },
        "id": "K3-_tk2kId9r",
        "outputId": "76610cf3-3660-4ea6-a897-84059bc2275f"
      },
      "execution_count": 21,
      "outputs": [
        {
          "output_type": "execute_result",
          "data": {
            "text/plain": [
              "array([[ 1,  5,  9],\n",
              "       [13, 17, 21]])"
            ]
          },
          "metadata": {},
          "execution_count": 21
        }
      ]
    },
    {
      "cell_type": "markdown",
      "source": [
        "21.What index can produce output: array( [1, 5, 9] ) "
      ],
      "metadata": {
        "id": "mvGQMo8wInOT"
      }
    },
    {
      "cell_type": "code",
      "source": [
        "import numpy as np\n",
        "b[0,:,1]"
      ],
      "metadata": {
        "colab": {
          "base_uri": "https://localhost:8080/"
        },
        "id": "jExjXr4SImI7",
        "outputId": "b8653d6b-fc01-4ac0-d998-19ed759bcdb8"
      },
      "execution_count": 22,
      "outputs": [
        {
          "output_type": "execute_result",
          "data": {
            "text/plain": [
              "array([1, 5, 9])"
            ]
          },
          "metadata": {},
          "execution_count": 22
        }
      ]
    },
    {
      "cell_type": "markdown",
      "source": [
        "22.What index can produce output: array([3,7,11])"
      ],
      "metadata": {
        "id": "axsenkMSIuz_"
      }
    },
    {
      "cell_type": "code",
      "source": [
        "import numpy as np\n",
        "b[0,:,3]"
      ],
      "metadata": {
        "colab": {
          "base_uri": "https://localhost:8080/"
        },
        "id": "DP8XOQRfItKH",
        "outputId": "a3bfd214-2a50-43ee-8141-42b9be916a85"
      },
      "execution_count": 26,
      "outputs": [
        {
          "output_type": "execute_result",
          "data": {
            "text/plain": [
              "array([ 3,  7, 11])"
            ]
          },
          "metadata": {},
          "execution_count": 26
        }
      ]
    },
    {
      "cell_type": "markdown",
      "source": [
        "23.What index can produce output: array([11, 7,3]) "
      ],
      "metadata": {
        "id": "orpnq_7qI1mD"
      }
    },
    {
      "cell_type": "code",
      "source": [
        "import numpy as np\n",
        "b[0,::-1,3]"
      ],
      "metadata": {
        "colab": {
          "base_uri": "https://localhost:8080/"
        },
        "id": "WsygJSd9I0z9",
        "outputId": "452afbe1-5816-40c7-cac0-9f3f8a83ae03"
      },
      "execution_count": 27,
      "outputs": [
        {
          "output_type": "execute_result",
          "data": {
            "text/plain": [
              "array([11,  7,  3])"
            ]
          },
          "metadata": {},
          "execution_count": 27
        }
      ]
    },
    {
      "cell_type": "markdown",
      "source": [
        "24.What index can produce output: array([3,11])\n"
      ],
      "metadata": {
        "id": "52woclOqJJCV"
      }
    },
    {
      "cell_type": "code",
      "source": [
        "import numpy as np\n",
        "b[0,0:3:2,3]"
      ],
      "metadata": {
        "colab": {
          "base_uri": "https://localhost:8080/"
        },
        "id": "RiIw46EvJIPK",
        "outputId": "acf32d88-6f49-4713-ccab-3bf63acf4bcd"
      },
      "execution_count": 28,
      "outputs": [
        {
          "output_type": "execute_result",
          "data": {
            "text/plain": [
              "array([ 3, 11])"
            ]
          },
          "metadata": {},
          "execution_count": 28
        }
      ]
    },
    {
      "cell_type": "markdown",
      "source": [
        "25.Use function ravel() with array b, and observe the output "
      ],
      "metadata": {
        "id": "tiFkmQIfJQGI"
      }
    },
    {
      "cell_type": "code",
      "source": [
        "import numpy as np\n",
        "b.ravel()"
      ],
      "metadata": {
        "colab": {
          "base_uri": "https://localhost:8080/"
        },
        "id": "xH97g-QJJPMT",
        "outputId": "cd266586-af1d-42ee-db75-27053537a1fb"
      },
      "execution_count": 29,
      "outputs": [
        {
          "output_type": "execute_result",
          "data": {
            "text/plain": [
              "array([ 0,  1,  2,  3,  4,  5,  6,  7,  8,  9, 10, 11, 12, 13, 14, 15, 16,\n",
              "       17, 18, 19, 20, 21, 22, 23])"
            ]
          },
          "metadata": {},
          "execution_count": 29
        }
      ]
    },
    {
      "cell_type": "markdown",
      "source": [
        "26.Use function flatten() with array b, and observe the output "
      ],
      "metadata": {
        "id": "h6lYVHSQJWgc"
      }
    },
    {
      "cell_type": "code",
      "source": [
        "import numpy as np\n",
        "b.flatten()"
      ],
      "metadata": {
        "colab": {
          "base_uri": "https://localhost:8080/"
        },
        "id": "9t6usyhPJVmz",
        "outputId": "5549288a-9575-4233-dc81-a06d7054ac74"
      },
      "execution_count": 30,
      "outputs": [
        {
          "output_type": "execute_result",
          "data": {
            "text/plain": [
              "array([ 0,  1,  2,  3,  4,  5,  6,  7,  8,  9, 10, 11, 12, 13, 14, 15, 16,\n",
              "       17, 18, 19, 20, 21, 22, 23])"
            ]
          },
          "metadata": {},
          "execution_count": 30
        }
      ]
    },
    {
      "cell_type": "markdown",
      "source": [
        "27.Use function transpose() with array b, check the output"
      ],
      "metadata": {
        "id": "4lrqzXCiJdC3"
      }
    },
    {
      "cell_type": "code",
      "source": [
        "import numpy as np\n",
        "b.transpose()"
      ],
      "metadata": {
        "colab": {
          "base_uri": "https://localhost:8080/"
        },
        "id": "DyEcoc2qJcQy",
        "outputId": "7df3ff54-1909-410d-af5e-6a2b2adf8f05"
      },
      "execution_count": 31,
      "outputs": [
        {
          "output_type": "execute_result",
          "data": {
            "text/plain": [
              "array([[[ 0, 12],\n",
              "        [ 4, 16],\n",
              "        [ 8, 20]],\n",
              "\n",
              "       [[ 1, 13],\n",
              "        [ 5, 17],\n",
              "        [ 9, 21]],\n",
              "\n",
              "       [[ 2, 14],\n",
              "        [ 6, 18],\n",
              "        [10, 22]],\n",
              "\n",
              "       [[ 3, 15],\n",
              "        [ 7, 19],\n",
              "        [11, 23]]])"
            ]
          },
          "metadata": {},
          "execution_count": 31
        }
      ]
    },
    {
      "cell_type": "markdown",
      "source": [
        "28. Use function T() with array b,\n",
        "check the output"
      ],
      "metadata": {
        "id": "v5ZvHs8HJkAC"
      }
    },
    {
      "cell_type": "code",
      "source": [
        "import numpy as np\n",
        "b.T"
      ],
      "metadata": {
        "colab": {
          "base_uri": "https://localhost:8080/"
        },
        "id": "38aPvUvBJi4S",
        "outputId": "a826661e-fe5c-4d78-f6c0-034b012886a4"
      },
      "execution_count": 32,
      "outputs": [
        {
          "output_type": "execute_result",
          "data": {
            "text/plain": [
              "array([[[ 0, 12],\n",
              "        [ 4, 16],\n",
              "        [ 8, 20]],\n",
              "\n",
              "       [[ 1, 13],\n",
              "        [ 5, 17],\n",
              "        [ 9, 21]],\n",
              "\n",
              "       [[ 2, 14],\n",
              "        [ 6, 18],\n",
              "        [10, 22]],\n",
              "\n",
              "       [[ 3, 15],\n",
              "        [ 7, 19],\n",
              "        [11, 23]]])"
            ]
          },
          "metadata": {},
          "execution_count": 32
        }
      ]
    },
    {
      "cell_type": "markdown",
      "source": [
        "29.aUse function concatenate on two arrays with axis 0, and axis 1 and observe the output: i.e\n",
        "np.concatenate((arr1,arr2),axis=0) & np.concatenate((arr1,arr2),axis=1)"
      ],
      "metadata": {
        "id": "_Fd-HowIJwjJ"
      }
    },
    {
      "cell_type": "code",
      "source": [
        "import numpy as np\n",
        "arr1=np.array([[1,2,3],[4,5,6],[7,8,9]])\n",
        "arr2=np.array([[10,11,12],[13,14,15],[16,17,18]])\n",
        "c=np.concatenate((arr1,arr2),axis=0)\n",
        "print(c)"
      ],
      "metadata": {
        "colab": {
          "base_uri": "https://localhost:8080/"
        },
        "id": "dk5Z35ngJvWH",
        "outputId": "5d83f057-da14-40f2-de55-6d8eca9143cd"
      },
      "execution_count": 33,
      "outputs": [
        {
          "output_type": "stream",
          "name": "stdout",
          "text": [
            "[[ 1  2  3]\n",
            " [ 4  5  6]\n",
            " [ 7  8  9]\n",
            " [10 11 12]\n",
            " [13 14 15]\n",
            " [16 17 18]]\n"
          ]
        }
      ]
    },
    {
      "cell_type": "markdown",
      "source": [
        "29.b"
      ],
      "metadata": {
        "id": "qLjaSFb3J7qk"
      }
    },
    {
      "cell_type": "code",
      "source": [
        "import numpy as np\n",
        "arr1=np.array([[1,2,3],[4,5,6],[7,8,9]])\n",
        "arr2=np.array([[10,11,12],[13,14,15],[16,17,18]])\n",
        "d=np.concatenate((arr1,arr2),axis=1)\n",
        "print(d)"
      ],
      "metadata": {
        "colab": {
          "base_uri": "https://localhost:8080/"
        },
        "id": "mfrTQ3wbJ4Bf",
        "outputId": "afd7d3fa-4368-4a94-a24b-eb4319269afb"
      },
      "execution_count": 34,
      "outputs": [
        {
          "output_type": "stream",
          "name": "stdout",
          "text": [
            "[[ 1  2  3 10 11 12]\n",
            " [ 4  5  6 13 14 15]\n",
            " [ 7  8  9 16 17 18]]\n"
          ]
        }
      ]
    },
    {
      "cell_type": "markdown",
      "source": [
        "30.Use function astype() to convert the array to an array on another type A=array([[0, 1], [2,\n",
        "3],[4, 5]]) A.astype(float) or A.astype(‘f’) or A.astype(‘float64’) A.astype(bool)"
      ],
      "metadata": {
        "id": "6vlnClxMKDk_"
      }
    },
    {
      "cell_type": "code",
      "source": [
        "import numpy as np\n",
        "A=np.array([[0, 1], [2, 3],[4, 5]])\n",
        "print(A.astype(float))\n",
        "print(A.astype(bool))"
      ],
      "metadata": {
        "colab": {
          "base_uri": "https://localhost:8080/"
        },
        "id": "2RBEiUPXKBfn",
        "outputId": "b7ab2b77-9846-4a0f-b569-0cefc0803f5a"
      },
      "execution_count": 35,
      "outputs": [
        {
          "output_type": "stream",
          "name": "stdout",
          "text": [
            "[[0. 1.]\n",
            " [2. 3.]\n",
            " [4. 5.]]\n",
            "[[False  True]\n",
            " [ True  True]\n",
            " [ True  True]]\n"
          ]
        }
      ]
    },
    {
      "cell_type": "markdown",
      "source": [
        "31.aCheck the output of “ np.eye(3)” and “np.zeros(3)”"
      ],
      "metadata": {
        "id": "8_U0LXrfKKCa"
      }
    },
    {
      "cell_type": "code",
      "source": [
        "import numpy as np\n",
        "B=np.eye(3)\n",
        "print(B)"
      ],
      "metadata": {
        "colab": {
          "base_uri": "https://localhost:8080/"
        },
        "id": "_23ICNEsKJB7",
        "outputId": "2f954017-5065-4ec6-f222-37cddb72ec0e"
      },
      "execution_count": 36,
      "outputs": [
        {
          "output_type": "stream",
          "name": "stdout",
          "text": [
            "[[1. 0. 0.]\n",
            " [0. 1. 0.]\n",
            " [0. 0. 1.]]\n"
          ]
        }
      ]
    },
    {
      "cell_type": "markdown",
      "source": [
        "31.b"
      ],
      "metadata": {
        "id": "ha25EEYZKUDG"
      }
    },
    {
      "cell_type": "code",
      "source": [
        "import numpy as np\n",
        "C=np.zeros(3)\n",
        "print(C)"
      ],
      "metadata": {
        "colab": {
          "base_uri": "https://localhost:8080/"
        },
        "id": "CrabN6rRKRKH",
        "outputId": "69372ecf-2604-462d-f5dc-45945b4ab912"
      },
      "execution_count": 37,
      "outputs": [
        {
          "output_type": "stream",
          "name": "stdout",
          "text": [
            "[0. 0. 0.]\n"
          ]
        }
      ]
    },
    {
      "cell_type": "markdown",
      "source": [
        "33.Find matrix multiplication user dot function "
      ],
      "metadata": {
        "id": "WbJ5Km_0Kbwa"
      }
    },
    {
      "cell_type": "code",
      "source": [
        "import numpy as np\n",
        "arr1=np.array([[0,1,2],[3,4,5],[6,7,8]])\n",
        "arr2=np.array([[6,7,8],[3,4,5],[0,1,2]])\n",
        "ans=np.dot(arr1,arr2)\n",
        "print(ans)"
      ],
      "metadata": {
        "colab": {
          "base_uri": "https://localhost:8080/"
        },
        "id": "_-x3-G0RKZ9v",
        "outputId": "c7b3747b-278d-4236-f92e-594c0fdaf201"
      },
      "execution_count": 38,
      "outputs": [
        {
          "output_type": "stream",
          "name": "stdout",
          "text": [
            "[[ 3  6  9]\n",
            " [30 42 54]\n",
            " [57 78 99]]\n"
          ]
        }
      ]
    },
    {
      "cell_type": "markdown",
      "source": [
        "34.Find element wise multiplication of two matrices using multiply function"
      ],
      "metadata": {
        "id": "Lvc4-K56Ki8-"
      }
    },
    {
      "cell_type": "code",
      "source": [
        "import numpy as np\n",
        "arr1=np.array([[0,1,2],[3,4,5],[6,7,8]])\n",
        "arr2=np.array([[6,7,8],[3,4,5],[0,1,2]])\n",
        "ans=np.multiply(arr1,arr2)\n",
        "print(ans)"
      ],
      "metadata": {
        "colab": {
          "base_uri": "https://localhost:8080/"
        },
        "id": "He8b3rAKKiE3",
        "outputId": "d9992222-cd56-4db3-d6a2-46f1c5750e50"
      },
      "execution_count": 39,
      "outputs": [
        {
          "output_type": "stream",
          "name": "stdout",
          "text": [
            "[[ 0  7 16]\n",
            " [ 9 16 25]\n",
            " [ 0  7 16]]\n"
          ]
        }
      ]
    },
    {
      "cell_type": "markdown",
      "source": [
        "36.. Creating new dtype: record=np.dtype([('name',str,40),('no_of_items',int),('price','float64')]) "
      ],
      "metadata": {
        "id": "yStjHDu2KrZO"
      }
    },
    {
      "cell_type": "code",
      "source": [
        "import numpy as np\n",
        "record=np.dtype([('name',str,40),('no_of_items',int),('price','float64')])\n",
        "print(np.array([1,3,2,4],dtype=record))"
      ],
      "metadata": {
        "colab": {
          "base_uri": "https://localhost:8080/"
        },
        "id": "sAUpcIqpKqib",
        "outputId": "5cafff7f-79fe-4fbd-ae27-cd7c97f0a7bf"
      },
      "execution_count": 40,
      "outputs": [
        {
          "output_type": "stream",
          "name": "stdout",
          "text": [
            "[('1', 1, 1.) ('3', 3, 3.) ('2', 2, 2.) ('4', 4, 4.)]\n"
          ]
        }
      ]
    },
    {
      "cell_type": "markdown",
      "source": [
        "37.Store record type values in variable items, "
      ],
      "metadata": {
        "id": "7luv8WRLK6JC"
      }
    },
    {
      "cell_type": "code",
      "source": [
        "import numpy as np\n",
        "item=np.array([1,3,2,4],dtype=record)\n",
        "item"
      ],
      "metadata": {
        "colab": {
          "base_uri": "https://localhost:8080/"
        },
        "id": "gY0NDWyoK5Mn",
        "outputId": "f7c09fd0-2bdd-41e0-e8fc-b396cd5e8897"
      },
      "execution_count": 41,
      "outputs": [
        {
          "output_type": "execute_result",
          "data": {
            "text/plain": [
              "array([('1', 1, 1.), ('3', 3, 3.), ('2', 2, 2.), ('4', 4, 4.)],\n",
              "      dtype=[('name', '<U40'), ('no_of_items', '<i8'), ('price', '<f8')])"
            ]
          },
          "metadata": {},
          "execution_count": 41
        }
      ]
    },
    {
      "cell_type": "markdown",
      "source": [
        "38.items=np.array([('life of dvd',42,30.50),('Butter',10,22.75)], dtype=record)"
      ],
      "metadata": {
        "id": "HiZtgry3LC_m"
      }
    },
    {
      "cell_type": "code",
      "source": [
        "import numpy as np\n",
        "items=np.array([('life of dvd',42,30.50),('Butter',10,22.75)], dtype=record)\n",
        "items"
      ],
      "metadata": {
        "colab": {
          "base_uri": "https://localhost:8080/"
        },
        "id": "QUegy8EnLB8-",
        "outputId": "7295fa8e-617f-4e08-efd1-87c6258996aa"
      },
      "execution_count": 42,
      "outputs": [
        {
          "output_type": "execute_result",
          "data": {
            "text/plain": [
              "array([('life of dvd', 42, 30.5 ), ('Butter', 10, 22.75)],\n",
              "      dtype=[('name', '<U40'), ('no_of_items', '<i8'), ('price', '<f8')])"
            ]
          },
          "metadata": {},
          "execution_count": 42
        }
      ]
    },
    {
      "cell_type": "markdown",
      "source": [
        "39.Cross Product:"
      ],
      "metadata": {
        "id": "x-boY1caLKA3"
      }
    },
    {
      "cell_type": "code",
      "source": [
        "import numpy as np\n",
        "a=np.array([1,5,3])\n",
        "a=np.cross(a,a)\n",
        "a"
      ],
      "metadata": {
        "colab": {
          "base_uri": "https://localhost:8080/"
        },
        "id": "ZfOJTLrDLIw1",
        "outputId": "bae8e2d5-d325-4aef-ef57-df4c1ecae324"
      },
      "execution_count": 43,
      "outputs": [
        {
          "output_type": "execute_result",
          "data": {
            "text/plain": [
              "array([0, 0, 0])"
            ]
          },
          "metadata": {},
          "execution_count": 43
        }
      ]
    },
    {
      "cell_type": "markdown",
      "source": [
        "40.* product\n"
      ],
      "metadata": {
        "id": "DtjM26J5LRLP"
      }
    },
    {
      "cell_type": "code",
      "source": [
        "import numpy as np\n",
        "brr=np.array([[1,2,3],[4,5,6],[7,8,9]])\n",
        "crr=np.array([[0,1,2],[3,4,5],[7,8,9]])\n",
        "brr*crr"
      ],
      "metadata": {
        "colab": {
          "base_uri": "https://localhost:8080/"
        },
        "id": "ohZyU87mLP-_",
        "outputId": "eed1ecfb-139b-4d4d-a971-39d0300d336a"
      },
      "execution_count": 44,
      "outputs": [
        {
          "output_type": "execute_result",
          "data": {
            "text/plain": [
              "array([[ 0,  2,  6],\n",
              "       [12, 20, 30],\n",
              "       [49, 64, 81]])"
            ]
          },
          "metadata": {},
          "execution_count": 44
        }
      ]
    },
    {
      "cell_type": "markdown",
      "source": [
        "41.\n",
        "@ product"
      ],
      "metadata": {
        "id": "N6hUR8fELYA9"
      }
    },
    {
      "cell_type": "code",
      "source": [
        "import numpy as np\n",
        "brr=np.array([[1,2,3],[4,5,6],[7,8,9]])\n",
        "crr=np.array([[0,1,2],[3,4,5],[7,8,9]])\n",
        "brr@crr"
      ],
      "metadata": {
        "colab": {
          "base_uri": "https://localhost:8080/"
        },
        "id": "W_TjVd8tLXPA",
        "outputId": "316db421-73cc-495d-b4fa-7fbc7cc2614a"
      },
      "execution_count": 45,
      "outputs": [
        {
          "output_type": "execute_result",
          "data": {
            "text/plain": [
              "array([[ 27,  33,  39],\n",
              "       [ 57,  72,  87],\n",
              "       [ 87, 111, 135]])"
            ]
          },
          "metadata": {},
          "execution_count": 45
        }
      ]
    },
    {
      "cell_type": "markdown",
      "source": [
        "32.Find minimum, maximum, and average of an array "
      ],
      "metadata": {
        "id": "AEpQik1eOAOp"
      }
    },
    {
      "cell_type": "code",
      "source": [
        "import numpy as np\n",
        "A=np.array([0,1,2,3,4,5,6,7])\n",
        "print(A.min())\n",
        "print(A.max())\n",
        "print(np.average(A))"
      ],
      "metadata": {
        "colab": {
          "base_uri": "https://localhost:8080/"
        },
        "id": "fgCMXADbLdvb",
        "outputId": "8c282ab0-22f0-4a61-acf1-f01632cea21a"
      },
      "execution_count": 46,
      "outputs": [
        {
          "output_type": "stream",
          "name": "stdout",
          "text": [
            "0\n",
            "7\n",
            "3.5\n"
          ]
        }
      ]
    }
  ]
}