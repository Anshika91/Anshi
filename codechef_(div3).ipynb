{
  "nbformat": 4,
  "nbformat_minor": 0,
  "metadata": {
    "colab": {
      "name": "codechef (div3).ipynb",
      "provenance": [],
      "authorship_tag": "ABX9TyM7l06MgFXfN2lcIbrH2BtV",
      "include_colab_link": true
    },
    "kernelspec": {
      "name": "python3",
      "display_name": "Python 3"
    },
    "language_info": {
      "name": "python"
    }
  },
  "cells": [
    {
      "cell_type": "markdown",
      "metadata": {
        "id": "view-in-github",
        "colab_type": "text"
      },
      "source": [
        "<a href=\"https://colab.research.google.com/github/Anshika91/Anshi/blob/main/codechef_(div3).ipynb\" target=\"_parent\"><img src=\"https://colab.research.google.com/assets/colab-badge.svg\" alt=\"Open In Colab\"/></a>"
      ]
    },
    {
      "cell_type": "markdown",
      "source": [
        ""
      ],
      "metadata": {
        "id": "wd1yH1PfArv0"
      }
    },
    {
      "cell_type": "markdown",
      "source": [
        "feb long challenge "
      ],
      "metadata": {
        "id": "kQj-9Wh7At3D"
      }
    },
    {
      "cell_type": "code",
      "source": [
        "for _ in range(int(input())):\n",
        "    n,k = map(int,input().split())\n",
        "    s=list(input())\n",
        "    if k==0:\n",
        "        print(\"NO\")\n",
        "    else:\n",
        "        for i in range(k):\n",
        "            if s[i]=='1':\n",
        "              s[i]='0'\n",
        "            elif s[i]=='0':\n",
        "              s[i]='1'\n",
        "c=\"\"\n",
        "for i in range(n):\n",
        "    c+=s[i]\n",
        "a=c[::-1]\n",
        "if c==a:\n",
        "    print(\"YES\")"
      ],
      "metadata": {
        "id": "9FTLlzAhErY4"
      },
      "execution_count": null,
      "outputs": []
    },
    {
      "cell_type": "code",
      "source": [
        "for _ in range(int(input())):\n",
        "  a=int(input())\n",
        "  a=pow((0.143*a),a)\n",
        "  print(round(a))"
      ],
      "metadata": {
        "id": "5dfk7mxdIXf9"
      },
      "execution_count": null,
      "outputs": []
    },
    {
      "cell_type": "code",
      "source": [
        ""
      ],
      "metadata": {
        "id": "ncpZE_vpIcAt"
      },
      "execution_count": null,
      "outputs": []
    }
  ]
}