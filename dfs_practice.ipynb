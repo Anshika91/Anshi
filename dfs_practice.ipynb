{
  "nbformat": 4,
  "nbformat_minor": 0,
  "metadata": {
    "colab": {
      "name": "dfs practice.ipynb",
      "provenance": [],
      "authorship_tag": "ABX9TyM5evKIl3h7grIt7dOQAIJQ",
      "include_colab_link": true
    },
    "kernelspec": {
      "name": "python3",
      "display_name": "Python 3"
    },
    "language_info": {
      "name": "python"
    }
  },
  "cells": [
    {
      "cell_type": "markdown",
      "metadata": {
        "id": "view-in-github",
        "colab_type": "text"
      },
      "source": [
        "<a href=\"https://colab.research.google.com/github/Anshika91/Anshi/blob/main/dfs_practice.ipynb\" target=\"_parent\"><img src=\"https://colab.research.google.com/assets/colab-badge.svg\" alt=\"Open In Colab\"/></a>"
      ]
    },
    {
      "cell_type": "code",
      "source": [
        "for _ in range(int(input())):\n",
        "  n = map(int,input().split())\n",
        "  arr = []\n",
        "  op =0\n",
        "for max in arr:\n",
        "  max = a[i]+a[i+1]\n",
        "  a[i] = max\n",
        "  size = size-1\n",
        "if(n==2):\n",
        "  op=op+1\n",
        "elif(a[i]==a[i+1]):\n",
        "  op=0\n",
        "print(arr)      \n"
      ],
      "metadata": {
        "id": "k6VRB9AEJmKG"
      },
      "execution_count": null,
      "outputs": []
    },
    {
      "cell_type": "code",
      "source": [
        "import collections\n",
        "n,m = map(int,input().split())\n",
        "cats = [int(x) for x in input().split()]\n",
        "\n",
        "adj_list = collections.defaultdict(lambda:[])\n",
        "for i in range(n-1):\n",
        "  x,y = [int(z)-1 for z in input().split()]\n",
        "  adj_list[x].append(y)\n",
        "  adj_list[y].append(x)\n",
        "\n",
        "  ans = 0\n",
        "  queue= collections.dequeue([[0,-1,0]])\n",
        "\n",
        "  while queue:\n",
        "    child,parent,count=queue.popleft()\n",
        "    isleaf = True\n",
        "    total = count+1 if cats[child] else 0\n",
        "    if total<=m:\n",
        "      for v in adj_list[child]:\n",
        "        if v! = parent:\n",
        "          isleaf = False\n",
        "          queue.append([v,child,total])\n",
        "      ans+=isleaf \n",
        "print(ans)           "
      ],
      "metadata": {
        "id": "o-HhfNPOMhq5"
      },
      "execution_count": null,
      "outputs": []
    },
    {
      "cell_type": "code",
      "source": [
        ""
      ],
      "metadata": {
        "id": "CRpIbTdwW_wh"
      },
      "execution_count": null,
      "outputs": []
    }
  ]
}