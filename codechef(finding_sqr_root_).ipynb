{
  "nbformat": 4,
  "nbformat_minor": 0,
  "metadata": {
    "colab": {
      "name": "codechef(finding sqr root ).ipynb",
      "provenance": [],
      "authorship_tag": "ABX9TyNmESl2E6jImH9zYPfRzpSQ",
      "include_colab_link": true
    },
    "kernelspec": {
      "name": "python3",
      "display_name": "Python 3"
    },
    "language_info": {
      "name": "python"
    }
  },
  "cells": [
    {
      "cell_type": "markdown",
      "metadata": {
        "id": "view-in-github",
        "colab_type": "text"
      },
      "source": [
        "<a href=\"https://colab.research.google.com/github/Anshika91/Anshi/blob/main/codechef(finding_sqr_root_).ipynb\" target=\"_parent\"><img src=\"https://colab.research.google.com/assets/colab-badge.svg\" alt=\"Open In Colab\"/></a>"
      ]
    },
    {
      "cell_type": "code",
      "execution_count": null,
      "metadata": {
        "id": "qq54rrPUk5qE"
      },
      "outputs": [],
      "source": [
        "import math\n",
        "t=int(input())\n",
        "for i in range(t):\n",
        "  n=int(input())\n",
        "  print(int(math.sqrt(n)))"
      ]
    },
    {
      "cell_type": "code",
      "source": [
        ""
      ],
      "metadata": {
        "id": "umw1AcLAl58s"
      },
      "execution_count": null,
      "outputs": []
    }
  ]
}