{
  "nbformat": 4,
  "nbformat_minor": 0,
  "metadata": {
    "colab": {
      "name": "Tsort(codechef practice).ipynb",
      "provenance": [],
      "authorship_tag": "ABX9TyOd+o00OZnBSG75EQe5gJL3",
      "include_colab_link": true
    },
    "kernelspec": {
      "name": "python3",
      "display_name": "Python 3"
    },
    "language_info": {
      "name": "python"
    }
  },
  "cells": [
    {
      "cell_type": "markdown",
      "metadata": {
        "id": "view-in-github",
        "colab_type": "text"
      },
      "source": [
        "<a href=\"https://colab.research.google.com/github/Anshika91/Anshi/blob/main/Tsort(codechef_practice).ipynb\" target=\"_parent\"><img src=\"https://colab.research.google.com/assets/colab-badge.svg\" alt=\"Open In Colab\"/></a>"
      ]
    },
    {
      "cell_type": "code",
      "execution_count": null,
      "metadata": {
        "id": "7gvg6iO5oU35"
      },
      "outputs": [],
      "source": [
        "arr = []\n",
        "t= int(input())\n",
        "for i in range(t):\n",
        "  n=int(input())\n",
        "  arr.append(n)\n",
        "arr = sorted(arr)\n",
        "for item in arr:\n",
        "  print(item)  \n"
      ]
    },
    {
      "cell_type": "code",
      "source": [
        "from heapq import *\n",
        "arr = []\n",
        "heap = []\n",
        "t= int(input())\n",
        "for _ in range(t):\n",
        "  n= int(input())\n",
        "  arr.append(n)\n",
        "for item in arr:\n",
        "  heappush(heap,item)\n",
        "while heap:\n",
        "  temp = heappop(heap) \n",
        "  print(temp) "
      ],
      "metadata": {
        "id": "ujDlm_gw4FZj"
      },
      "execution_count": null,
      "outputs": []
    },
    {
      "cell_type": "code",
      "source": [
        ""
      ],
      "metadata": {
        "id": "Rw1-plGq49CZ"
      },
      "execution_count": null,
      "outputs": []
    }
  ]
}