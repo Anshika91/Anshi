{
  "nbformat": 4,
  "nbformat_minor": 0,
  "metadata": {
    "colab": {
      "name": "04-01-22 cp.ipynb",
      "provenance": [],
      "collapsed_sections": [],
      "include_colab_link": true
    },
    "kernelspec": {
      "name": "python3",
      "display_name": "Python 3"
    },
    "language_info": {
      "name": "python"
    }
  },
  "cells": [
    {
      "cell_type": "markdown",
      "metadata": {
        "id": "view-in-github",
        "colab_type": "text"
      },
      "source": [
        "<a href=\"https://colab.research.google.com/github/Anshika91/Anshi/blob/main/04_01_22_cp.ipynb\" target=\"_parent\"><img src=\"https://colab.research.google.com/assets/colab-badge.svg\" alt=\"Open In Colab\"/></a>"
      ]
    },
    {
      "cell_type": "code",
      "execution_count": null,
      "metadata": {
        "colab": {
          "base_uri": "https://localhost:8080/"
        },
        "id": "HHZtH-RCQLrY",
        "outputId": "d26fb621-641c-4b78-f8f6-ef1a66a85166"
      },
      "outputs": [
        {
          "output_type": "stream",
          "name": "stdout",
          "text": [
            "5\n",
            "[1, 2, 3, 4, 5, 6, 7, 8]\n"
          ]
        }
      ],
      "source": [
        "# variables.\n",
        "a=5\n",
        "b=4\n",
        "c=3.4\n",
        "type(a)\n",
        "type(b)\n",
        "type(c)\n",
        "id(a)\n",
        "id(a)==id(b)\n",
        "id(a)==id(c)\n",
        "id(c)\n",
        "c=9\n",
        "\n",
        "x[-4]id(c)\n",
        "x=[1,2,3,4,5,6,7,8]\n",
        "x[4]\n",
        "id(x[4])\n",
        "print(a)\n",
        "print(x)"
      ]
    },
    {
      "cell_type": "markdown",
      "source": [
        "append and copy functions.\n"
      ],
      "metadata": {
        "id": "52iVbQZvZ3Ib"
      }
    },
    {
      "cell_type": "code",
      "source": [
        "a=[1,2,3,4]\n",
        "b=a\n",
        "print(b)\n",
        "a=b\n",
        "print(a)\n",
        "id(a)==id(b)\n",
        "b.append(5)\n",
        "print(b)\n",
        "a[1]=20\n",
        "print(a)\n",
        "c=a.copy()\n",
        "print(c)\n",
        "id(c)\n",
        "id(b)\n",
        "id(a)\n",
        "b=7\n",
        "a=8\n",
        "c=10\n"
      ],
      "metadata": {
        "colab": {
          "base_uri": "https://localhost:8080/"
        },
        "id": "hPliyQlDWLxy",
        "outputId": "74cee32a-d946-497f-a668-fe0325de68f1"
      },
      "execution_count": null,
      "outputs": [
        {
          "output_type": "stream",
          "name": "stdout",
          "text": [
            "[1, 2, 3, 4]\n",
            "[1, 2, 3, 4]\n",
            "[1, 2, 3, 4, 5]\n",
            "[1, 20, 3, 4, 5]\n",
            "[1, 20, 3, 4, 5]\n"
          ]
        }
      ]
    },
    {
      "cell_type": "code",
      "source": [
        "a=[[1,2,3,4,],[5,6,7,8]]\n",
        "b=a\n",
        "c=a.copy()\n",
        "a[0][0]=50\n",
        "print(a)"
      ],
      "metadata": {
        "colab": {
          "base_uri": "https://localhost:8080/"
        },
        "id": "RmTHTWbPaDLG",
        "outputId": "bbb1372f-6861-4530-a93a-0f7473f54df9"
      },
      "execution_count": null,
      "outputs": [
        {
          "output_type": "stream",
          "name": "stdout",
          "text": [
            "[[50, 2, 3, 4], [5, 6, 7, 8]]\n"
          ]
        }
      ]
    },
    {
      "cell_type": "markdown",
      "source": [
        "deepcopy concept\n"
      ],
      "metadata": {
        "id": "20x4r8zUbyiz"
      }
    },
    {
      "cell_type": "code",
      "source": [
        "from copy import deepcopy\n",
        "a=[[1,2,3,4,],[5,6,7,8]]\n",
        "c=deepcopy(a)\n",
        "print(a)\n",
        "print(c)\n",
        "a[0][0]=100\n",
        "print(a)\n",
        "print(c)"
      ],
      "metadata": {
        "colab": {
          "base_uri": "https://localhost:8080/"
        },
        "id": "4EEdvEaga2ZC",
        "outputId": "18fdbb8e-6604-414e-b4f3-c95a4d703dc2"
      },
      "execution_count": null,
      "outputs": [
        {
          "output_type": "stream",
          "name": "stdout",
          "text": [
            "[[1, 2, 3, 4], [5, 6, 7, 8]]\n",
            "[[1, 2, 3, 4], [5, 6, 7, 8]]\n",
            "[[100, 2, 3, 4], [5, 6, 7, 8]]\n",
            "[[1, 2, 3, 4], [5, 6, 7, 8]]\n"
          ]
        }
      ]
    },
    {
      "cell_type": "markdown",
      "source": [
        "functions."
      ],
      "metadata": {
        "id": "cgkSR_O6cxBl"
      }
    },
    {
      "cell_type": "code",
      "source": [
        "\n",
        "def adder(a,b):\n",
        "  a=2\n",
        "  b=3\n",
        "  print(a+b)\n",
        "adder(2,3) \n"
      ],
      "metadata": {
        "colab": {
          "base_uri": "https://localhost:8080/"
        },
        "id": "72TeVdwwde3U",
        "outputId": "6c7bbb1b-e6a9-4e14-d172-86b82dca783e"
      },
      "execution_count": null,
      "outputs": [
        {
          "output_type": "stream",
          "name": "stdout",
          "text": [
            "5\n"
          ]
        }
      ]
    },
    {
      "cell_type": "code",
      "source": [
        "def adder(a=0,b=4):\n",
        " return a+b\n",
        "adder() \n",
        "adder(2)\n",
        "adder(8)\n",
        "adder(2,3)"
      ],
      "metadata": {
        "colab": {
          "base_uri": "https://localhost:8080/"
        },
        "id": "jibcjyNBeZuX",
        "outputId": "38e854bd-bfe3-406b-f79b-b87f95e0fde8"
      },
      "execution_count": null,
      "outputs": [
        {
          "output_type": "execute_result",
          "data": {
            "text/plain": [
              "5"
            ]
          },
          "metadata": {},
          "execution_count": 56
        }
      ]
    },
    {
      "cell_type": "code",
      "source": [
        "def adder(*a):\n",
        "  print(a)\n",
        "adder(1)  \n",
        "adder(1,2)\n",
        "adder(1,2,3)\n",
        "adder(1,2,3,4,5,6,7,8,9,10)"
      ],
      "metadata": {
        "colab": {
          "base_uri": "https://localhost:8080/"
        },
        "id": "EP74xEsZftmP",
        "outputId": "a0187e40-aca8-4d4b-8931-70cfcd95ae1f"
      },
      "execution_count": null,
      "outputs": [
        {
          "output_type": "stream",
          "name": "stdout",
          "text": [
            "(1,)\n",
            "(1, 2)\n",
            "(1, 2, 3)\n",
            "(1, 2, 3, 4, 5, 6, 7, 8, 9, 10)\n"
          ]
        }
      ]
    },
    {
      "cell_type": "code",
      "source": [
        "def adder(*a):\n",
        "  addition=0\n",
        "  for i in a:\n",
        "    addition+=i\n",
        "  return addition\n",
        "adder(1,2,3,4,5,6,7,8,9,10)    \n",
        "adder(2.14,3.14)\n"
      ],
      "metadata": {
        "colab": {
          "base_uri": "https://localhost:8080/"
        },
        "id": "D9rhEJKLgmzh",
        "outputId": "0f8985c4-0268-42ef-81a5-f515736f099e"
      },
      "execution_count": null,
      "outputs": [
        {
          "output_type": "execute_result",
          "data": {
            "text/plain": [
              "5.28"
            ]
          },
          "metadata": {},
          "execution_count": 71
        }
      ]
    },
    {
      "cell_type": "code",
      "source": [
        "def fun(**a):\n",
        "  print(a)\n",
        "fun(fname='juet',lname='university')  "
      ],
      "metadata": {
        "colab": {
          "base_uri": "https://localhost:8080/"
        },
        "id": "ZSDIDQ8NhGXx",
        "outputId": "6c17dd57-fc77-4a27-fb6f-8094c5ba6656"
      },
      "execution_count": null,
      "outputs": [
        {
          "output_type": "stream",
          "name": "stdout",
          "text": [
            "{'fname': 'juet', 'lname': 'university'}\n"
          ]
        }
      ]
    },
    {
      "cell_type": "code",
      "source": [
        "def fun3(a,b):\n",
        "  print(a,b)\n",
        "fun3(1,2)  \n",
        "fun3((1,2),(4,5))\n",
        "fun3((1,2,3,4),(5,6,7,8))"
      ],
      "metadata": {
        "colab": {
          "base_uri": "https://localhost:8080/"
        },
        "id": "e71tOtjjiBKs",
        "outputId": "00e3eaf6-23a6-4ded-96e6-9ed831f52577"
      },
      "execution_count": null,
      "outputs": [
        {
          "output_type": "stream",
          "name": "stdout",
          "text": [
            "1 2\n",
            "(1, 2) (4, 5)\n",
            "(1, 2, 3, 4) (5, 6, 7, 8)\n"
          ]
        }
      ]
    }
  ]
}