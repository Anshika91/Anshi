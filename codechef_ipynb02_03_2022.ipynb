{
  "nbformat": 4,
  "nbformat_minor": 0,
  "metadata": {
    "colab": {
      "name": "codechef.ipynb02-03-2022",
      "provenance": [],
      "authorship_tag": "ABX9TyMNlhM9tZNizPML7kfNh5SN",
      "include_colab_link": true
    },
    "kernelspec": {
      "name": "python3",
      "display_name": "Python 3"
    },
    "language_info": {
      "name": "python"
    }
  },
  "cells": [
    {
      "cell_type": "markdown",
      "metadata": {
        "id": "view-in-github",
        "colab_type": "text"
      },
      "source": [
        "<a href=\"https://colab.research.google.com/github/Anshika91/Anshi/blob/main/codechef_ipynb02_03_2022.ipynb\" target=\"_parent\"><img src=\"https://colab.research.google.com/assets/colab-badge.svg\" alt=\"Open In Colab\"/></a>"
      ]
    },
    {
      "cell_type": "code",
      "execution_count": null,
      "metadata": {
        "id": "-7iBXu8hJW6U"
      },
      "outputs": [],
      "source": [
        "for i in range(int(input())):\n",
        "  n=int(input())\n",
        "  a=list(map(int,input().split()))[:n]\n",
        "  c=0\n",
        "  for i in a:\n",
        "    if i>9 and i<61:\n",
        "      c+=1\n",
        "  print(c)  "
      ]
    },
    {
      "cell_type": "code",
      "source": [
        ""
      ],
      "metadata": {
        "id": "rN7KhR_XJ8sq"
      },
      "execution_count": null,
      "outputs": []
    }
  ]
}