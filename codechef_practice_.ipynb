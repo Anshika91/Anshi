{
  "nbformat": 4,
  "nbformat_minor": 0,
  "metadata": {
    "colab": {
      "name": "codechef practice .ipynb",
      "provenance": [],
      "authorship_tag": "ABX9TyOU8I83t44c11AIuTYLIi2e",
      "include_colab_link": true
    },
    "kernelspec": {
      "name": "python3",
      "display_name": "Python 3"
    },
    "language_info": {
      "name": "python"
    }
  },
  "cells": [
    {
      "cell_type": "markdown",
      "metadata": {
        "id": "view-in-github",
        "colab_type": "text"
      },
      "source": [
        "<a href=\"https://colab.research.google.com/github/Anshika91/Anshi/blob/main/codechef_practice_.ipynb\" target=\"_parent\"><img src=\"https://colab.research.google.com/assets/colab-badge.svg\" alt=\"Open In Colab\"/></a>"
      ]
    },
    {
      "cell_type": "code",
      "source": [
        "for i in range(int(input())):\n",
        "  n = int(input())\n",
        "  sm = 0\n",
        "  while n>0:\n",
        "    r=n%10\n",
        "    n=n//10\n",
        "    sm=sm*10 + r\n",
        "  print(sm)"
      ],
      "metadata": {
        "id": "o0tJuznehtnX"
      },
      "execution_count": null,
      "outputs": []
    },
    {
      "cell_type": "code",
      "source": [
        "for i in range(int(input())):\n",
        "  string = input()\n",
        "  solution = ''\n",
        "  for item in string:\n",
        "    solution = item + solution\n",
        "  print(int(solution))  "
      ],
      "metadata": {
        "id": "cvbQnPSToTjE"
      },
      "execution_count": null,
      "outputs": []
    },
    {
      "cell_type": "code",
      "source": [
        ""
      ],
      "metadata": {
        "id": "Tm0tGfDkooC-"
      },
      "execution_count": null,
      "outputs": []
    }
  ]
}